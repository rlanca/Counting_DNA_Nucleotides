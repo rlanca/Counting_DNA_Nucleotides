{
 "cells": [
  {
   "cell_type": "markdown",
   "id": "e88e3894",
   "metadata": {},
   "source": [
    "### Counting DNA Nucleotides\n",
    "\n",
    "Given: A DNA string $s$ of length at most 1000 nt.\n",
    "\n",
    "Return: Four integers (separated by spaces) counting the respective number of times that the symbols 'A', 'C', 'G', and 'T' occur in $s$.\n"
   ]
  },
  {
   "cell_type": "markdown",
   "id": "a3401484",
   "metadata": {},
   "source": [
    "#### 1. Naive Method"
   ]
  },
  {
   "cell_type": "code",
   "execution_count": 7,
   "id": "a7cafa46",
   "metadata": {},
   "outputs": [
    {
     "name": "stdout",
     "output_type": "stream",
     "text": [
      "Enter the string of nucleotides: AGCTTTTCATTCTGACTGCAACGGGCAATATGTCTCTGTGTGGATTAAAAAAAGAGTGTCTGATAGCAGC\n",
      "20 12 17 21\n"
     ]
    }
   ],
   "source": [
    "a = (input(\"Enter the string of nucleotides: \"))\n",
    "\n",
    "countA=0\n",
    "countC=0\n",
    "countG=0\n",
    "countT=0\n",
    "\n",
    "for i in a:\n",
    "    if i == 'A':\n",
    "        countA += 1\n",
    "    elif i == 'C':\n",
    "        countC += 1\n",
    "    elif i == 'G':\n",
    "        countG += 1\n",
    "    elif i == 'T':\n",
    "        countT += 1\n",
    "        \n",
    "print(countA, countC, countG, countT)"
   ]
  },
  {
   "cell_type": "markdown",
   "id": "0527eeaa",
   "metadata": {},
   "source": [
    "1.2 Naive method with file reading"
   ]
  },
  {
   "cell_type": "code",
   "execution_count": 3,
   "id": "a41ce22d",
   "metadata": {},
   "outputs": [
    {
     "name": "stdout",
     "output_type": "stream",
     "text": [
      "Enter the file name here, including suffix: counting_nucleotides_sampledata.txt\n",
      "20 12 17 21\n"
     ]
    }
   ],
   "source": [
    "a = (input(\"Enter the file name here, including suffix: \"))\n",
    "f = open(a, 'r')\n",
    "seq = f.readline()\n",
    "\n",
    "countA=0\n",
    "countC=0\n",
    "countG=0\n",
    "countT=0\n",
    "\n",
    "for i in seq:\n",
    "    if i == 'A':\n",
    "        countA += 1\n",
    "    elif i == 'C':\n",
    "        countC += 1\n",
    "    elif i == 'G':\n",
    "        countG += 1\n",
    "    elif i == 'T':\n",
    "        countT += 1\n",
    "        \n",
    "print(countA, countC, countG, countT)"
   ]
  },
  {
   "cell_type": "markdown",
   "id": "15cf9739",
   "metadata": {},
   "source": [
    "#### 2. Method using `count`"
   ]
  },
  {
   "cell_type": "code",
   "execution_count": 11,
   "id": "03b95711",
   "metadata": {},
   "outputs": [
    {
     "name": "stdout",
     "output_type": "stream",
     "text": [
      "Enter the file name here, including suffix: counting_nucleotides_data.txt\n",
      "223 249 249 260\n"
     ]
    }
   ],
   "source": [
    "a = (input(\"Enter the file name here, including suffix: \"))\n",
    "f = open(a, 'r')\n",
    "seq = f.readline()\n",
    "\n",
    "countA = seq.count('A')\n",
    "countC = seq.count('C')\n",
    "countG = seq.count('G')\n",
    "countT = seq.count('T')\n",
    "\n",
    "print(countA, countC, countG, countT)"
   ]
  },
  {
   "cell_type": "markdown",
   "id": "d0840739",
   "metadata": {},
   "source": [
    "References used: \n",
    "\n",
    "1. https://www.geeksforgeeks.org/python-count-occurrences-of-a-character-in-string/"
   ]
  }
 ],
 "metadata": {
  "kernelspec": {
   "display_name": "Python 3 (ipykernel)",
   "language": "python",
   "name": "python3"
  },
  "language_info": {
   "codemirror_mode": {
    "name": "ipython",
    "version": 3
   },
   "file_extension": ".py",
   "mimetype": "text/x-python",
   "name": "python",
   "nbconvert_exporter": "python",
   "pygments_lexer": "ipython3",
   "version": "3.11.1"
  }
 },
 "nbformat": 4,
 "nbformat_minor": 5
}
